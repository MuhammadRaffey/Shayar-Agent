{
 "cells": [
  {
   "cell_type": "markdown",
   "metadata": {},
   "source": [
    "# Agent Explanation\n",
    "\n",
    "This agent is designed to generate Urdu poetry based on the user's mood. It uses a language model to create emotionally resonant poems inspired by classical and modern Urdu styles. The agent is implemented in a Jupyter Notebook \n"
   ]
  },
  {
   "cell_type": "code",
   "execution_count": null,
   "metadata": {},
   "outputs": [],
   "source": [
    "%pip install -qU langchain_openai dotenv langchain "
   ]
  },
  {
   "cell_type": "code",
   "execution_count": null,
   "metadata": {},
   "outputs": [],
   "source": [
    "%pip install langgraph langchain_core"
   ]
  },
  {
   "cell_type": "code",
   "execution_count": 27,
   "metadata": {},
   "outputs": [],
   "source": [
    "from langchain_openai import ChatOpenAI\n",
    "import os\n",
    "import dotenv\n",
    "dotenv.load_dotenv()\n",
    "token = os.getenv(\"OPEN_AI_API_KEY\")\n",
    "# token"
   ]
  },
  {
   "cell_type": "code",
   "execution_count": 28,
   "metadata": {},
   "outputs": [],
   "source": [
    "llm = ChatOpenAI(\n",
    "    model=\"gpt-4o-mini\",\n",
    "    temperature=1.0,\n",
    "    api_key=token,\n",
    ")"
   ]
  },
  {
   "cell_type": "code",
   "execution_count": null,
   "metadata": {},
   "outputs": [],
   "source": [
    "def generate_poem(mood:str)->str:\n",
    "    \"\"\"\n",
    "    Generate a poem based on the given mood.\n",
    "    This function interacts with an AI model to generate a poem in Urdu. The poem is inspired by classical and modern Urdu styles and includes at least 8 lines of poetry. The context of the mood is explained before starting the poem.\n",
    "    Args:\n",
    "        mood (str): The mood to base the poem on.\n",
    "    Returns:\n",
    "        str: The generated poem in Urdu.\n",
    "    \"\"\"\n",
    "\n",
    "    messages = [\n",
    "        (\n",
    "            \"system\",\n",
    "            \"You are an expert Urdu poet skilled in writing long, elaborate, and emotionally resonant poems. \"\n",
    "            \"You should always respond with poetry inspired by classical and modern Urdu styles, \"\n",
    "            \"and include at least 8 lines of poetry. Frame the poetry in  Urdu  \"\n",
    "            \"and explain the context of the mood before starting the poem.\"\n",
    "        ),\n",
    "        (\"user\", f\"My mood is {mood}. Please compose exactly 4 sher (couplets) and no more, keeping it concise.\"),\n",
    "    ]\n",
    "    response = llm.invoke(messages)\n",
    "    return response.content\n"
   ]
  },
  {
   "cell_type": "code",
   "execution_count": null,
   "metadata": {},
   "outputs": [],
   "source": [
    "sadPoem=generate_poem(\"I am sad\")\n",
    "print(sadPoem)\n",
    "# print(type(sadPoem))"
   ]
  },
  {
   "cell_type": "code",
   "execution_count": 29,
   "metadata": {},
   "outputs": [],
   "source": [
    "from langgraph.graph import MessagesState\n",
    "\n",
    "class State(MessagesState):\n",
    "    mood:str"
   ]
  },
  {
   "cell_type": "code",
   "execution_count": 30,
   "metadata": {},
   "outputs": [
    {
     "data": {
      "image/png": "[encoded data removed]",
      "text/plain": [
       "<IPython.core.display.Image object>"
      ]
     },
     "metadata": {},
     "output_type": "display_data"
    }
   ],
   "source": [
    "from IPython.display import Image, display\n",
    "from langgraph.graph import StateGraph, START, END\n",
    "from langchain_core.messages import HumanMessage, SystemMessage\n",
    "from langgraph.graph.state import CompiledStateGraph\n",
    "\n",
    "def llm_with_sys_message(state: dict) -> dict:\n",
    "    \"\"\"\n",
    "    Generates a response from a language model with a system message and a human message.\n",
    "    The system message sets the context that the model is an expert Urdu poet who writes long, elaborate, and emotionally resonant poems. The poetry should be inspired by classical and modern Urdu styles and include at least 8 lines. The context of the mood is explained before starting the poem.\n",
    "    The human message specifies the user's mood and requests the composition of exactly 4 sher (couplets), keeping it concise.\n",
    "    Args:\n",
    "        state (dict): A dictionary containing the current state, including the mood and previous messages.\n",
    "    Returns:\n",
    "        dict: A dictionary containing the generated messages from the language model.\n",
    "    \n",
    "    \"\"\"\n",
    "    sys_msg = SystemMessage(content=\"You are an expert Urdu poet skilled in writing long, elaborate, and emotionally resonant poems.You should always respond with poetry inspired by classical and modern Urdu styles,and include at least 8 lines of poetry. Frame the poetry in  Urdu and explain the context of the mood before starting the poem.\")\n",
    "    mood = state.get('mood', \"neutral\")\n",
    "    human_msg = HumanMessage(content=f\"My mood is {mood}. Please compose exactly 4 sher (couplets) and no more, keeping it concise.\")  \n",
    "    return {\"messages\": [llm.invoke([sys_msg, human_msg] + state[\"messages\"])]} \n",
    "\n",
    "# Build graph\n",
    "builder: StateGraph = StateGraph(State)\n",
    "builder.add_node(\"llm_with_sys_message\", llm_with_sys_message)\n",
    "builder.add_edge(START, \"llm_with_sys_message\")\n",
    "builder.add_edge(\"llm_with_sys_message\", END)\n",
    "graph: CompiledStateGraph = builder.compile()\n",
    "\n",
    "# View\n",
    "display(Image(graph.get_graph().draw_mermaid_png()))"
   ]
  },
  {
   "cell_type": "code",
   "execution_count": 31,
   "metadata": {},
   "outputs": [
    {
     "name": "stdout",
     "output_type": "stream",
     "text": [
      "================================\u001b[1m Human Message \u001b[0m=================================\n",
      "\n",
      "I am very Happy right Now\n",
      "==================================\u001b[1m Ai Message \u001b[0m==================================\n",
      "\n",
      "خوشی کا لمحہ ہے، چہرہ چمکتا ہے  \n",
      "دل کی دنیا میں محبت کا جال بچھتا ہے  \n",
      "\n",
      "سہراب جیسے باغوں میں بہار آئی ہے  \n",
      "خوابوں کی دنیا میں خوشبو کی چھالا آئی ہے  \n",
      "\n",
      "تاروں کی روشنی میں رقص کر رہا ہوں میں  \n",
      "زندگی کے ہر رنگ میں بس خوشی بکھر رہا ہوں میں  \n",
      "\n",
      "آسمان کی آغوش میں خوشیوں کا چندرا ہے  \n",
      "ہر پل میں موجزن، دل کی ہے تسکین کا سمندر ہے\n"
     ]
    }
   ],
   "source": [
    "state = State(mood=\"I am very Happy right Now\")\n",
    "messages = [HumanMessage(content=state['mood'])]\n",
    "messages = graph.invoke({\"messages\": messages, \"mood\": state[\"mood\"]})  \n",
    "for m in messages['messages']:\n",
    "    m.pretty_print()"
   ]
  }
 ],
 "metadata": {
  "kernelspec": {
   "display_name": "Python 3",
   "language": "python",
   "name": "python3"
  },
  "language_info": {
   "codemirror_mode": {
    "name": "ipython",
    "version": 3
   },
   "file_extension": ".py",
   "mimetype": "text/x-python",
   "name": "python",
   "nbconvert_exporter": "python",
   "pygments_lexer": "ipython3",
   "version": "3.12.6"
  }
 },
 "nbformat": 4,
 "nbformat_minor": 2
}
